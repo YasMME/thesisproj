{
 "cells": [
  {
   "cell_type": "code",
   "execution_count": 1,
   "metadata": {},
   "outputs": [],
   "source": [
    "# Question Type Numbers in Evaluation Set:\n",
    "#{'color_room': 1335, 'color': 345, 'location': 270}"
   ]
  },
  {
   "cell_type": "code",
   "execution_count": 2,
   "metadata": {},
   "outputs": [],
   "source": [
    "import pandas as pd"
   ]
  },
  {
   "cell_type": "code",
   "execution_count": 3,
   "metadata": {},
   "outputs": [
    {
     "data": {
      "text/html": [
       "<div>\n",
       "<style scoped>\n",
       "    .dataframe tbody tr th:only-of-type {\n",
       "        vertical-align: middle;\n",
       "    }\n",
       "\n",
       "    .dataframe tbody tr th {\n",
       "        vertical-align: top;\n",
       "    }\n",
       "\n",
       "    .dataframe thead th {\n",
       "        text-align: right;\n",
       "    }\n",
       "</style>\n",
       "<table border=\"1\" class=\"dataframe\">\n",
       "  <thead>\n",
       "    <tr style=\"text-align: right;\">\n",
       "      <th></th>\n",
       "      <th>question</th>\n",
       "      <th>question_type</th>\n",
       "      <th>ground truth</th>\n",
       "      <th>ground truth position</th>\n",
       "      <th>prediction</th>\n",
       "      <th>episode_id</th>\n",
       "    </tr>\n",
       "  </thead>\n",
       "  <tbody>\n",
       "    <tr>\n",
       "      <th>0</th>\n",
       "      <td>what color is the curtain in the family room ?</td>\n",
       "      <td>color_room</td>\n",
       "      <td>white</td>\n",
       "      <td>1</td>\n",
       "      <td>brown</td>\n",
       "      <td>83</td>\n",
       "    </tr>\n",
       "    <tr>\n",
       "      <th>1</th>\n",
       "      <td>what color is the curtain in the family room ?</td>\n",
       "      <td>color_room</td>\n",
       "      <td>white</td>\n",
       "      <td>4</td>\n",
       "      <td>brown</td>\n",
       "      <td>80</td>\n",
       "    </tr>\n",
       "    <tr>\n",
       "      <th>2</th>\n",
       "      <td>what color is the bed in the bedroom ?</td>\n",
       "      <td>color_room</td>\n",
       "      <td>white</td>\n",
       "      <td>5</td>\n",
       "      <td>tan</td>\n",
       "      <td>94</td>\n",
       "    </tr>\n",
       "    <tr>\n",
       "      <th>3</th>\n",
       "      <td>what color is the curtain in the bathroom ?</td>\n",
       "      <td>color_room</td>\n",
       "      <td>off-white</td>\n",
       "      <td>3</td>\n",
       "      <td>brown</td>\n",
       "      <td>29</td>\n",
       "    </tr>\n",
       "    <tr>\n",
       "      <th>4</th>\n",
       "      <td>what color is the curtain in the bathroom ?</td>\n",
       "      <td>color_room</td>\n",
       "      <td>off-white</td>\n",
       "      <td>2</td>\n",
       "      <td>brown</td>\n",
       "      <td>24</td>\n",
       "    </tr>\n",
       "  </tbody>\n",
       "</table>\n",
       "</div>"
      ],
      "text/plain": [
       "                                         question question_type ground truth  \\\n",
       "0  what color is the curtain in the family room ?    color_room        white   \n",
       "1  what color is the curtain in the family room ?    color_room        white   \n",
       "2          what color is the bed in the bedroom ?    color_room        white   \n",
       "3     what color is the curtain in the bathroom ?    color_room    off-white   \n",
       "4     what color is the curtain in the bathroom ?    color_room    off-white   \n",
       "\n",
       "   ground truth position prediction  episode_id  \n",
       "0                      1      brown          83  \n",
       "1                      4      brown          80  \n",
       "2                      5        tan          94  \n",
       "3                      3      brown          29  \n",
       "4                      2      brown          24  "
      ]
     },
     "execution_count": 3,
     "metadata": {},
     "output_type": "execute_result"
    }
   ],
   "source": [
    "#checkpoint with best accuracy\n",
    "#baseline_wrong = pd.read_csv(\"/home/yasmeen/Desktop/baseline_wrong_answer/wrong_answers15.csv\")\n",
    "#checkpoint with lowest mean rank\n",
    "baseline_wrong = pd.read_csv(\"/home/yasmeen/Desktop/baseline_wrong_answer/wrong_answers23.csv\")\n",
    "baseline_wrong.head()"
   ]
  },
  {
   "cell_type": "code",
   "execution_count": 4,
   "metadata": {},
   "outputs": [
    {
     "data": {
      "text/plain": [
       "color_room    830\n",
       "location      206\n",
       "color         194\n",
       "Name: question_type, dtype: int64"
      ]
     },
     "execution_count": 4,
     "metadata": {},
     "output_type": "execute_result"
    }
   ],
   "source": [
    "wrong_base = baseline_wrong['question_type'].value_counts()\n",
    "wrong_base"
   ]
  },
  {
   "cell_type": "code",
   "execution_count": 5,
   "metadata": {},
   "outputs": [],
   "source": [
    "#category_wrong = pd.read_csv(\"/home/yasmeen/Desktop/wrong_answers_category/wrong_answers22.csv\")\n",
    "category_wrong = pd.read_csv(\"/home/yasmeen/Desktop/wrong_answers_category/wrong_answers29.csv\")"
   ]
  },
  {
   "cell_type": "code",
   "execution_count": 6,
   "metadata": {},
   "outputs": [
    {
     "data": {
      "text/html": [
       "<div>\n",
       "<style scoped>\n",
       "    .dataframe tbody tr th:only-of-type {\n",
       "        vertical-align: middle;\n",
       "    }\n",
       "\n",
       "    .dataframe tbody tr th {\n",
       "        vertical-align: top;\n",
       "    }\n",
       "\n",
       "    .dataframe thead th {\n",
       "        text-align: right;\n",
       "    }\n",
       "</style>\n",
       "<table border=\"1\" class=\"dataframe\">\n",
       "  <thead>\n",
       "    <tr style=\"text-align: right;\">\n",
       "      <th></th>\n",
       "      <th>question</th>\n",
       "      <th>question_type</th>\n",
       "      <th>ground truth</th>\n",
       "      <th>ground truth position</th>\n",
       "      <th>prediction</th>\n",
       "      <th>episode_id</th>\n",
       "    </tr>\n",
       "  </thead>\n",
       "  <tbody>\n",
       "    <tr>\n",
       "      <th>0</th>\n",
       "      <td>what color is the bed in the bedroom ?</td>\n",
       "      <td>color_room</td>\n",
       "      <td>white</td>\n",
       "      <td>3</td>\n",
       "      <td>brown</td>\n",
       "      <td>89</td>\n",
       "    </tr>\n",
       "    <tr>\n",
       "      <th>1</th>\n",
       "      <td>what color is the shelving in the hallway ?</td>\n",
       "      <td>color_room</td>\n",
       "      <td>brown</td>\n",
       "      <td>2</td>\n",
       "      <td>grey</td>\n",
       "      <td>17</td>\n",
       "    </tr>\n",
       "    <tr>\n",
       "      <th>2</th>\n",
       "      <td>what color is the shelving in the office ?</td>\n",
       "      <td>color_room</td>\n",
       "      <td>black</td>\n",
       "      <td>2</td>\n",
       "      <td>white</td>\n",
       "      <td>100</td>\n",
       "    </tr>\n",
       "    <tr>\n",
       "      <th>3</th>\n",
       "      <td>what color is the shelving in the office ?</td>\n",
       "      <td>color_room</td>\n",
       "      <td>black</td>\n",
       "      <td>2</td>\n",
       "      <td>white</td>\n",
       "      <td>116</td>\n",
       "    </tr>\n",
       "    <tr>\n",
       "      <th>4</th>\n",
       "      <td>what color is the curtain in the family room ?</td>\n",
       "      <td>color_room</td>\n",
       "      <td>white</td>\n",
       "      <td>4</td>\n",
       "      <td>tan</td>\n",
       "      <td>81</td>\n",
       "    </tr>\n",
       "  </tbody>\n",
       "</table>\n",
       "</div>"
      ],
      "text/plain": [
       "                                         question question_type ground truth  \\\n",
       "0          what color is the bed in the bedroom ?    color_room        white   \n",
       "1     what color is the shelving in the hallway ?    color_room        brown   \n",
       "2      what color is the shelving in the office ?    color_room        black   \n",
       "3      what color is the shelving in the office ?    color_room        black   \n",
       "4  what color is the curtain in the family room ?    color_room        white   \n",
       "\n",
       "   ground truth position prediction  episode_id  \n",
       "0                      3      brown          89  \n",
       "1                      2       grey          17  \n",
       "2                      2      white         100  \n",
       "3                      2      white         116  \n",
       "4                      4        tan          81  "
      ]
     },
     "execution_count": 6,
     "metadata": {},
     "output_type": "execute_result"
    }
   ],
   "source": [
    "category_wrong.head()"
   ]
  },
  {
   "cell_type": "code",
   "execution_count": 7,
   "metadata": {},
   "outputs": [],
   "source": [
    "wrong = category_wrong['question_type'].value_counts()"
   ]
  },
  {
   "cell_type": "code",
   "execution_count": 8,
   "metadata": {},
   "outputs": [
    {
     "data": {
      "text/plain": [
       "color_room    797\n",
       "location      189\n",
       "color         182\n",
       "Name: question_type, dtype: int64"
      ]
     },
     "execution_count": 8,
     "metadata": {},
     "output_type": "execute_result"
    }
   ],
   "source": [
    "wrong"
   ]
  }
 ],
 "metadata": {
  "kernelspec": {
   "display_name": "habitatenv",
   "language": "python",
   "name": "habitatenv"
  },
  "language_info": {
   "codemirror_mode": {
    "name": "ipython",
    "version": 3
   },
   "file_extension": ".py",
   "mimetype": "text/x-python",
   "name": "python",
   "nbconvert_exporter": "python",
   "pygments_lexer": "ipython3",
   "version": "3.6.13"
  }
 },
 "nbformat": 4,
 "nbformat_minor": 4
}
