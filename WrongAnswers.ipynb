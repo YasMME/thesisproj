{
 "cells": [
  {
   "cell_type": "code",
   "execution_count": 1,
   "metadata": {},
   "outputs": [],
   "source": [
    "# Question Type Numbers in Evaluation Set:\n",
    "#{'color_room': 1335, 'color': 345, 'location': 270}\n"
   ]
  },
  {
   "cell_type": "code",
   "execution_count": 2,
   "metadata": {},
   "outputs": [],
   "source": [
    "import pandas as pd"
   ]
  },
  {
   "cell_type": "code",
   "execution_count": 3,
   "metadata": {},
   "outputs": [],
   "source": [
    "#checkpoint with best accuracy\n",
    "baseline_wrong = pd.read_csv(\"/home/yasmeen/Desktop/baseline_wrong_answer/wrong_answers15.csv\")\n",
    "#checkpoint with lowest mean rank\n",
    "#baseline_wrong = pd.read_csv(\"/home/yasmeen/Desktop/baseline_wrong_answer/wrong_answers23.csv\")\n",
    "#baseline_wrong.head()"
   ]
  },
  {
   "cell_type": "code",
   "execution_count": 4,
   "metadata": {},
   "outputs": [],
   "source": [
    "wrong_base = baseline_wrong['question_type'].value_counts()\n"
   ]
  },
  {
   "cell_type": "code",
   "execution_count": 5,
   "metadata": {},
   "outputs": [],
   "source": [
    "def percent_wrong(counts):\n",
    "    total_color_room = 1335\n",
    "    total_color = 345\n",
    "    total_location = 270\n",
    "    \n",
    "    wrong_color_room = (counts['color_room'])/total_color_room\n",
    "    wrong_color = (counts['color'])/total_color\n",
    "    wrong_location = (counts['color'])/total_location\n",
    "    return wrong_color_room, wrong_color, wrong_location\n",
    "\n",
    "def percent_right(counts):\n",
    "    r, c, l = percent_wrong(counts)\n",
    "    return (round(1 - r, 5), round(1 - c, 5), round(1 - l, 5))"
   ]
  },
  {
   "cell_type": "code",
   "execution_count": 6,
   "metadata": {},
   "outputs": [
    {
     "data": {
      "text/plain": [
       "(0.40899, 0.46667, 0.31852)"
      ]
     },
     "execution_count": 6,
     "metadata": {},
     "output_type": "execute_result"
    }
   ],
   "source": [
    "percent_right(wrong_base)"
   ]
  },
  {
   "cell_type": "code",
   "execution_count": 7,
   "metadata": {},
   "outputs": [],
   "source": [
    "category_wrong = pd.read_csv(\"/home/yasmeen/Desktop/wrong_answers_category/wrong_answers22.csv\")\n",
    "#category_wrong = pd.read_csv(\"/home/yasmeen/Desktop/wrong_answers_category/wrong_answers29.csv\")"
   ]
  },
  {
   "cell_type": "code",
   "execution_count": 8,
   "metadata": {},
   "outputs": [
    {
     "data": {
      "text/html": [
       "<div>\n",
       "<style scoped>\n",
       "    .dataframe tbody tr th:only-of-type {\n",
       "        vertical-align: middle;\n",
       "    }\n",
       "\n",
       "    .dataframe tbody tr th {\n",
       "        vertical-align: top;\n",
       "    }\n",
       "\n",
       "    .dataframe thead th {\n",
       "        text-align: right;\n",
       "    }\n",
       "</style>\n",
       "<table border=\"1\" class=\"dataframe\">\n",
       "  <thead>\n",
       "    <tr style=\"text-align: right;\">\n",
       "      <th></th>\n",
       "      <th>question</th>\n",
       "      <th>question_type</th>\n",
       "      <th>ground truth</th>\n",
       "      <th>ground truth position</th>\n",
       "      <th>prediction</th>\n",
       "      <th>episode_id</th>\n",
       "    </tr>\n",
       "  </thead>\n",
       "  <tbody>\n",
       "    <tr>\n",
       "      <th>0</th>\n",
       "      <td>what color is the curtain in the family room ?</td>\n",
       "      <td>color_room</td>\n",
       "      <td>white</td>\n",
       "      <td>2</td>\n",
       "      <td>brown</td>\n",
       "      <td>80</td>\n",
       "    </tr>\n",
       "    <tr>\n",
       "      <th>1</th>\n",
       "      <td>what color is the curtain in the family room ?</td>\n",
       "      <td>color_room</td>\n",
       "      <td>white</td>\n",
       "      <td>1</td>\n",
       "      <td>brown</td>\n",
       "      <td>84</td>\n",
       "    </tr>\n",
       "    <tr>\n",
       "      <th>2</th>\n",
       "      <td>what color is the curtain in the bathroom ?</td>\n",
       "      <td>color_room</td>\n",
       "      <td>off-white</td>\n",
       "      <td>2</td>\n",
       "      <td>brown</td>\n",
       "      <td>24</td>\n",
       "    </tr>\n",
       "    <tr>\n",
       "      <th>3</th>\n",
       "      <td>what color is the curtain in the family room ?</td>\n",
       "      <td>color_room</td>\n",
       "      <td>white</td>\n",
       "      <td>1</td>\n",
       "      <td>brown</td>\n",
       "      <td>78</td>\n",
       "    </tr>\n",
       "    <tr>\n",
       "      <th>4</th>\n",
       "      <td>what color is the bed in the bedroom ?</td>\n",
       "      <td>color_room</td>\n",
       "      <td>white</td>\n",
       "      <td>3</td>\n",
       "      <td>brown</td>\n",
       "      <td>101</td>\n",
       "    </tr>\n",
       "  </tbody>\n",
       "</table>\n",
       "</div>"
      ],
      "text/plain": [
       "                                         question question_type ground truth  \\\n",
       "0  what color is the curtain in the family room ?    color_room        white   \n",
       "1  what color is the curtain in the family room ?    color_room        white   \n",
       "2     what color is the curtain in the bathroom ?    color_room    off-white   \n",
       "3  what color is the curtain in the family room ?    color_room        white   \n",
       "4          what color is the bed in the bedroom ?    color_room        white   \n",
       "\n",
       "   ground truth position prediction  episode_id  \n",
       "0                      2      brown          80  \n",
       "1                      1      brown          84  \n",
       "2                      2      brown          24  \n",
       "3                      1      brown          78  \n",
       "4                      3      brown         101  "
      ]
     },
     "execution_count": 8,
     "metadata": {},
     "output_type": "execute_result"
    }
   ],
   "source": [
    "category_wrong.head()"
   ]
  },
  {
   "cell_type": "code",
   "execution_count": 9,
   "metadata": {},
   "outputs": [],
   "source": [
    "cat_wrong = category_wrong['question_type'].value_counts()"
   ]
  },
  {
   "cell_type": "code",
   "execution_count": 10,
   "metadata": {},
   "outputs": [
    {
     "data": {
      "text/plain": [
       "color_room    778\n",
       "location      195\n",
       "color         166\n",
       "Name: question_type, dtype: int64"
      ]
     },
     "execution_count": 10,
     "metadata": {},
     "output_type": "execute_result"
    }
   ],
   "source": [
    "cat_wrong"
   ]
  },
  {
   "cell_type": "code",
   "execution_count": 11,
   "metadata": {},
   "outputs": [
    {
     "data": {
      "text/plain": [
       "(0.41723, 0.51884, 0.38519)"
      ]
     },
     "execution_count": 11,
     "metadata": {},
     "output_type": "execute_result"
    }
   ],
   "source": [
    "percent_right(cat_wrong)"
   ]
  },
  {
   "cell_type": "code",
   "execution_count": 12,
   "metadata": {},
   "outputs": [],
   "source": [
    "look_around_wrong = pd.read_csv('/home/yasmeen/Desktop/wrong_answers_look_around/wrong_answers16.csv')"
   ]
  },
  {
   "cell_type": "code",
   "execution_count": 13,
   "metadata": {},
   "outputs": [
    {
     "data": {
      "text/html": [
       "<div>\n",
       "<style scoped>\n",
       "    .dataframe tbody tr th:only-of-type {\n",
       "        vertical-align: middle;\n",
       "    }\n",
       "\n",
       "    .dataframe tbody tr th {\n",
       "        vertical-align: top;\n",
       "    }\n",
       "\n",
       "    .dataframe thead th {\n",
       "        text-align: right;\n",
       "    }\n",
       "</style>\n",
       "<table border=\"1\" class=\"dataframe\">\n",
       "  <thead>\n",
       "    <tr style=\"text-align: right;\">\n",
       "      <th></th>\n",
       "      <th>question</th>\n",
       "      <th>question_type</th>\n",
       "      <th>ground truth</th>\n",
       "      <th>ground truth position</th>\n",
       "      <th>prediction</th>\n",
       "      <th>episode_id</th>\n",
       "    </tr>\n",
       "  </thead>\n",
       "  <tbody>\n",
       "    <tr>\n",
       "      <th>0</th>\n",
       "      <td>what color is the curtain in the bathroom ?</td>\n",
       "      <td>color_room</td>\n",
       "      <td>off-white</td>\n",
       "      <td>2</td>\n",
       "      <td>brown</td>\n",
       "      <td>31</td>\n",
       "    </tr>\n",
       "    <tr>\n",
       "      <th>1</th>\n",
       "      <td>what color is the bed in the bedroom ?</td>\n",
       "      <td>color_room</td>\n",
       "      <td>white</td>\n",
       "      <td>3</td>\n",
       "      <td>brown</td>\n",
       "      <td>63</td>\n",
       "    </tr>\n",
       "    <tr>\n",
       "      <th>2</th>\n",
       "      <td>what color is the curtain in the family room ?</td>\n",
       "      <td>color_room</td>\n",
       "      <td>white</td>\n",
       "      <td>1</td>\n",
       "      <td>brown</td>\n",
       "      <td>73</td>\n",
       "    </tr>\n",
       "    <tr>\n",
       "      <th>3</th>\n",
       "      <td>what color is the shelving in the hallway ?</td>\n",
       "      <td>color_room</td>\n",
       "      <td>brown</td>\n",
       "      <td>1</td>\n",
       "      <td>black</td>\n",
       "      <td>65</td>\n",
       "    </tr>\n",
       "    <tr>\n",
       "      <th>4</th>\n",
       "      <td>what color is the shelving in the hallway ?</td>\n",
       "      <td>color_room</td>\n",
       "      <td>brown</td>\n",
       "      <td>1</td>\n",
       "      <td>black</td>\n",
       "      <td>71</td>\n",
       "    </tr>\n",
       "  </tbody>\n",
       "</table>\n",
       "</div>"
      ],
      "text/plain": [
       "                                         question question_type ground truth  \\\n",
       "0     what color is the curtain in the bathroom ?    color_room    off-white   \n",
       "1          what color is the bed in the bedroom ?    color_room        white   \n",
       "2  what color is the curtain in the family room ?    color_room        white   \n",
       "3     what color is the shelving in the hallway ?    color_room        brown   \n",
       "4     what color is the shelving in the hallway ?    color_room        brown   \n",
       "\n",
       "   ground truth position prediction  episode_id  \n",
       "0                      2      brown          31  \n",
       "1                      3      brown          63  \n",
       "2                      1      brown          73  \n",
       "3                      1      black          65  \n",
       "4                      1      black          71  "
      ]
     },
     "execution_count": 13,
     "metadata": {},
     "output_type": "execute_result"
    }
   ],
   "source": [
    "look_around_wrong.head()"
   ]
  },
  {
   "cell_type": "code",
   "execution_count": 14,
   "metadata": {},
   "outputs": [
    {
     "data": {
      "text/plain": [
       "color_room    784\n",
       "location      195\n",
       "color         170\n",
       "Name: question_type, dtype: int64"
      ]
     },
     "execution_count": 14,
     "metadata": {},
     "output_type": "execute_result"
    }
   ],
   "source": [
    "la_wrong = look_around_wrong['question_type'].value_counts()\n",
    "la_wrong"
   ]
  },
  {
   "cell_type": "code",
   "execution_count": 15,
   "metadata": {},
   "outputs": [
    {
     "data": {
      "text/plain": [
       "(0.41273, 0.50725, 0.37037)"
      ]
     },
     "execution_count": 15,
     "metadata": {},
     "output_type": "execute_result"
    }
   ],
   "source": [
    "percent_right(la_wrong)"
   ]
  },
  {
   "cell_type": "code",
   "execution_count": 16,
   "metadata": {},
   "outputs": [
    {
     "data": {
      "text/html": [
       "<div>\n",
       "<style scoped>\n",
       "    .dataframe tbody tr th:only-of-type {\n",
       "        vertical-align: middle;\n",
       "    }\n",
       "\n",
       "    .dataframe tbody tr th {\n",
       "        vertical-align: top;\n",
       "    }\n",
       "\n",
       "    .dataframe thead th {\n",
       "        text-align: right;\n",
       "    }\n",
       "</style>\n",
       "<table border=\"1\" class=\"dataframe\">\n",
       "  <thead>\n",
       "    <tr style=\"text-align: right;\">\n",
       "      <th></th>\n",
       "      <th>question</th>\n",
       "      <th>question_type</th>\n",
       "      <th>ground truth</th>\n",
       "      <th>ground truth position</th>\n",
       "      <th>prediction</th>\n",
       "      <th>episode_id</th>\n",
       "    </tr>\n",
       "  </thead>\n",
       "  <tbody>\n",
       "    <tr>\n",
       "      <th>0</th>\n",
       "      <td>what color is the curtain in the bathroom ?</td>\n",
       "      <td>color_room</td>\n",
       "      <td>off-white</td>\n",
       "      <td>4</td>\n",
       "      <td>brown</td>\n",
       "      <td>27</td>\n",
       "    </tr>\n",
       "    <tr>\n",
       "      <th>1</th>\n",
       "      <td>what color is the door in the office ?</td>\n",
       "      <td>color_room</td>\n",
       "      <td>white</td>\n",
       "      <td>1</td>\n",
       "      <td>brown</td>\n",
       "      <td>30</td>\n",
       "    </tr>\n",
       "    <tr>\n",
       "      <th>2</th>\n",
       "      <td>what color is the curtain in the family room ?</td>\n",
       "      <td>color_room</td>\n",
       "      <td>white</td>\n",
       "      <td>1</td>\n",
       "      <td>brown</td>\n",
       "      <td>78</td>\n",
       "    </tr>\n",
       "    <tr>\n",
       "      <th>3</th>\n",
       "      <td>what color is the shelving in the office ?</td>\n",
       "      <td>color_room</td>\n",
       "      <td>black</td>\n",
       "      <td>2</td>\n",
       "      <td>brown</td>\n",
       "      <td>105</td>\n",
       "    </tr>\n",
       "    <tr>\n",
       "      <th>4</th>\n",
       "      <td>what color is the door in the office ?</td>\n",
       "      <td>color_room</td>\n",
       "      <td>white</td>\n",
       "      <td>1</td>\n",
       "      <td>brown</td>\n",
       "      <td>44</td>\n",
       "    </tr>\n",
       "  </tbody>\n",
       "</table>\n",
       "</div>"
      ],
      "text/plain": [
       "                                         question question_type ground truth  \\\n",
       "0     what color is the curtain in the bathroom ?    color_room    off-white   \n",
       "1          what color is the door in the office ?    color_room        white   \n",
       "2  what color is the curtain in the family room ?    color_room        white   \n",
       "3      what color is the shelving in the office ?    color_room        black   \n",
       "4          what color is the door in the office ?    color_room        white   \n",
       "\n",
       "   ground truth position prediction  episode_id  \n",
       "0                      4      brown          27  \n",
       "1                      1      brown          30  \n",
       "2                      1      brown          78  \n",
       "3                      2      brown         105  \n",
       "4                      1      brown          44  "
      ]
     },
     "execution_count": 16,
     "metadata": {},
     "output_type": "execute_result"
    }
   ],
   "source": [
    "fully_blind_wrong = pd.read_csv('/home/yasmeen/Desktop/wrong_answers_fully_blind/wrong_answers7.csv')\n",
    "fully_blind_wrong.head()"
   ]
  },
  {
   "cell_type": "code",
   "execution_count": 17,
   "metadata": {},
   "outputs": [
    {
     "data": {
      "text/plain": [
       "color_room    855\n",
       "location      210\n",
       "color         180\n",
       "Name: question_type, dtype: int64"
      ]
     },
     "execution_count": 17,
     "metadata": {},
     "output_type": "execute_result"
    }
   ],
   "source": [
    "fb_wrong = fully_blind_wrong['question_type'].value_counts()\n",
    "fb_wrong"
   ]
  },
  {
   "cell_type": "code",
   "execution_count": 18,
   "metadata": {},
   "outputs": [
    {
     "data": {
      "text/plain": [
       "(0.35955, 0.47826, 0.33333)"
      ]
     },
     "execution_count": 18,
     "metadata": {},
     "output_type": "execute_result"
    }
   ],
   "source": [
    "percent_right(fb_wrong)"
   ]
  },
  {
   "cell_type": "code",
   "execution_count": null,
   "metadata": {},
   "outputs": [],
   "source": []
  }
 ],
 "metadata": {
  "kernelspec": {
   "display_name": "habitatenv",
   "language": "python",
   "name": "habitatenv"
  },
  "language_info": {
   "codemirror_mode": {
    "name": "ipython",
    "version": 3
   },
   "file_extension": ".py",
   "mimetype": "text/x-python",
   "name": "python",
   "nbconvert_exporter": "python",
   "pygments_lexer": "ipython3",
   "version": "3.6.13"
  }
 },
 "nbformat": 4,
 "nbformat_minor": 4
}
