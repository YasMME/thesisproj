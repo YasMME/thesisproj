{
 "cells": [
  {
   "cell_type": "code",
   "execution_count": 1,
   "metadata": {},
   "outputs": [
    {
     "data": {
      "text/plain": [
       "list"
      ]
     },
     "execution_count": 1,
     "metadata": {},
     "output_type": "execute_result"
    }
   ],
   "source": [
    "import json\n",
    "from collections import Counter\n",
    "\n",
    "\n",
    "#Validation Set\n",
    "with open('val.json') as json_file:\n",
    "    val = json.load(json_file)\n",
    "episodes = val['episodes']\n",
    "type(episodes)"
   ]
  },
  {
   "cell_type": "code",
   "execution_count": 2,
   "metadata": {},
   "outputs": [],
   "source": [
    "question_vocab_val = val['question_vocab']\n",
    "answer_vocab_val = val['answer_vocab']"
   ]
  },
  {
   "cell_type": "code",
   "execution_count": 3,
   "metadata": {},
   "outputs": [],
   "source": [
    "# Check for Unknowns\n",
    "qs = [item['question'] for item in episodes]\n",
    "qt = [item['question_text'] for item in qs]\n",
    "\n",
    "for q in qt:\n",
    "    if '<unk>' in q:\n",
    "        print(q)\n",
    "        \n",
    "ans = [item['answer_text'] for item in qs]\n",
    "for a in ans:\n",
    "    if '<unk>' in a:\n",
    "        print(a)"
   ]
  },
  {
   "cell_type": "code",
   "execution_count": 4,
   "metadata": {},
   "outputs": [
    {
     "data": {
      "text/plain": [
       "{'bedroom',\n",
       " 'black',\n",
       " 'blue',\n",
       " 'brown',\n",
       " 'closet',\n",
       " 'family room',\n",
       " 'green',\n",
       " 'grey',\n",
       " 'gym',\n",
       " 'hallway',\n",
       " 'kitchen',\n",
       " 'laundry room',\n",
       " 'living room',\n",
       " 'lounge',\n",
       " 'off-white',\n",
       " 'olive green',\n",
       " 'red',\n",
       " 'red brown',\n",
       " 'silver',\n",
       " 'slate grey',\n",
       " 'spa',\n",
       " 'tan',\n",
       " 'white',\n",
       " 'yellow'}"
      ]
     },
     "execution_count": 4,
     "metadata": {},
     "output_type": "execute_result"
    }
   ],
   "source": [
    "#Unique Answers\n",
    "unique_as = set(a for a in ans)\n",
    "unique_as"
   ]
  },
  {
   "cell_type": "code",
   "execution_count": 5,
   "metadata": {},
   "outputs": [
    {
     "data": {
      "text/plain": [
       "list"
      ]
     },
     "execution_count": 5,
     "metadata": {},
     "output_type": "execute_result"
    }
   ],
   "source": [
    "#Train Set\n",
    "with open('train.json') as json_file:\n",
    "    train = json.load(json_file)\n",
    "train_episodes = train['episodes']\n",
    "type(train_episodes)"
   ]
  },
  {
   "cell_type": "code",
   "execution_count": 6,
   "metadata": {},
   "outputs": [],
   "source": [
    "answer_vocab_train = train['answer_vocab']\n",
    "question_vocab_train = train['question_vocab']"
   ]
  },
  {
   "cell_type": "code",
   "execution_count": 7,
   "metadata": {},
   "outputs": [],
   "source": [
    "# Check for Unknowns\n",
    "tqs = [item['question'] for item in train_episodes]\n",
    "tqt = [item['question_text'] for item in tqs]\n",
    "\n",
    "\n",
    "for tq in tqt:\n",
    "    if '<unk>' in tq:\n",
    "        print(tq)\n",
    "        \n",
    "tans = [item['answer_text'] for item in tqs]\n",
    "for ta in tans:\n",
    "    if '<unk>' in ta:\n",
    "        print(ta)"
   ]
  },
  {
   "cell_type": "code",
   "execution_count": 8,
   "metadata": {},
   "outputs": [
    {
     "data": {
      "text/plain": [
       "{'bathroom',\n",
       " 'bedroom',\n",
       " 'black',\n",
       " 'blue',\n",
       " 'brown',\n",
       " 'closet',\n",
       " 'dining room',\n",
       " 'family room',\n",
       " 'foyer',\n",
       " 'green',\n",
       " 'grey',\n",
       " 'hallway',\n",
       " 'kitchen',\n",
       " 'laundry room',\n",
       " 'light blue',\n",
       " 'living room',\n",
       " 'lounge',\n",
       " 'off-white',\n",
       " 'office',\n",
       " 'olive green',\n",
       " 'orange yellow',\n",
       " 'purple',\n",
       " 'purple pink',\n",
       " 'red',\n",
       " 'red brown',\n",
       " 'silver',\n",
       " 'slate grey',\n",
       " 'spa',\n",
       " 'tan',\n",
       " 'tv room',\n",
       " 'white',\n",
       " 'yellow',\n",
       " 'yellow green',\n",
       " 'yellow pink'}"
      ]
     },
     "execution_count": 8,
     "metadata": {},
     "output_type": "execute_result"
    }
   ],
   "source": [
    "#Unique Answers\n",
    "unique_tas = set(ta for ta in tans)\n",
    "unique_tas"
   ]
  },
  {
   "cell_type": "code",
   "execution_count": 9,
   "metadata": {},
   "outputs": [
    {
     "data": {
      "text/plain": [
       "{'gym'}"
      ]
     },
     "execution_count": 9,
     "metadata": {},
     "output_type": "execute_result"
    }
   ],
   "source": [
    "val_only = set(unique_as - unique_tas)\n",
    "val_only"
   ]
  },
  {
   "cell_type": "code",
   "execution_count": 10,
   "metadata": {},
   "outputs": [
    {
     "data": {
      "text/plain": [
       "[('color_room', 69.85908141962422),\n",
       " ('color', 15.91858037578288),\n",
       " ('location', 14.222338204592901)]"
      ]
     },
     "execution_count": 10,
     "metadata": {},
     "output_type": "execute_result"
    }
   ],
   "source": [
    "# Get Percentages of Question Types\n",
    "tqtype = [item['question_type'] for item in tqs]\n",
    "q_num = len(tqtype)\n",
    "c = Counter(tqtype)\n",
    "type_percentages = [(i, c[i] / q_num * 100.0) for i in c]\n",
    "type_percentages"
   ]
  },
  {
   "cell_type": "code",
   "execution_count": 12,
   "metadata": {},
   "outputs": [
    {
     "data": {
      "text/plain": [
       "[('color_room', 68.46153846153847),\n",
       " ('color', 17.692307692307693),\n",
       " ('location', 13.846153846153847)]"
      ]
     },
     "execution_count": 12,
     "metadata": {},
     "output_type": "execute_result"
    }
   ],
   "source": [
    "tatype = [item['question_type'] for item in qs]\n",
    "q_num = len(tatype)\n",
    "c = Counter(tatype)\n",
    "type_percentages = [(i, c[i] / q_num * 100.0) for i in c]\n",
    "type_percentages"
   ]
  },
  {
   "cell_type": "code",
   "execution_count": null,
   "metadata": {},
   "outputs": [],
   "source": [
    "#Making a mini-version of the dataset for local testing\n",
    "episodes[0]"
   ]
  },
  {
   "cell_type": "code",
   "execution_count": null,
   "metadata": {},
   "outputs": [],
   "source": [
    "# matterport scenes to use in mini-dataset\n",
    "scenes = ['mp3d/1LXtFkjw3qL/1LXtFkjw3qL.glb', 'mp3d/1pXnuDYAj8r/1pXnuDYAj8r.glb', 'mp3d/2azQ1b91cZZ/2azQ1b91cZZ.glb', 'mp3d/2n8kARJN3HM/2n8kARJN3HM.glb']"
   ]
  },
  {
   "cell_type": "code",
   "execution_count": null,
   "metadata": {},
   "outputs": [],
   "source": [
    "mini_val_episodes = list(filter(lambda d: d['scene_id'] in scenes, episodes))\n",
    "len(mini_val_episodes)"
   ]
  },
  {
   "cell_type": "code",
   "execution_count": null,
   "metadata": {},
   "outputs": [],
   "source": [
    "mini_val = {'episodes': mini_val_episodes, 'question_vocab': question_vocab_val, 'answer_vocab': answer_vocab_val}"
   ]
  },
  {
   "cell_type": "code",
   "execution_count": null,
   "metadata": {},
   "outputs": [],
   "source": [
    "mini_train_episodes = list(filter(lambda d: d['scene_id'] in scenes, train_episodes))\n",
    "mini_train = {'episodes': mini_train_episodes, 'question_vocab': question_vocab_train, 'answer_vocab': answer_vocab_train}"
   ]
  },
  {
   "cell_type": "code",
   "execution_count": null,
   "metadata": {},
   "outputs": [],
   "source": [
    "len(mini_train_episodes)"
   ]
  },
  {
   "cell_type": "code",
   "execution_count": null,
   "metadata": {},
   "outputs": [],
   "source": [
    "#write to json files\n",
    "\n",
    "with open('mini_train.json', 'w') as f:\n",
    "    json.dump(mini_train, f)\n",
    "    \n",
    "with open('mini_val.json', 'w') as f:\n",
    "    json.dump(mini_val, f)"
   ]
  },
  {
   "cell_type": "code",
   "execution_count": null,
   "metadata": {},
   "outputs": [],
   "source": []
  }
 ],
 "metadata": {
  "kernelspec": {
   "display_name": "Python 3",
   "language": "python",
   "name": "python3"
  },
  "language_info": {
   "codemirror_mode": {
    "name": "ipython",
    "version": 3
   },
   "file_extension": ".py",
   "mimetype": "text/x-python",
   "name": "python",
   "nbconvert_exporter": "python",
   "pygments_lexer": "ipython3",
   "version": "3.6.13"
  }
 },
 "nbformat": 4,
 "nbformat_minor": 4
}
